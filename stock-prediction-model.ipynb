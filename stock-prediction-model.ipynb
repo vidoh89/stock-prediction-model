{
 "cells": [
  {
   "cell_type": "code",
   "execution_count": null,
   "id": "3e0d0ecb-32c1-41f0-a148-f6e0e13ae84e",
   "metadata": {},
   "outputs": [],
   "source": [
    "# Price prediction model\n",
    "# Goal: Predicting whether or not the S&P500 will be bullish\n",
    "# Backtesting timeframe: 20 years\n",
    "# **libs**\n",
    "# yfinance(StockData),\n"
   ]
  },
  {
   "cell_type": "code",
   "execution_count": null,
   "id": "8d45c7c9-9f83-47f7-adaf-74d781969565",
   "metadata": {},
   "outputs": [],
   "source": [
    "pip install yfinance\n"
   ]
  },
  {
   "cell_type": "code",
   "execution_count": null,
   "id": "f1dbf556-244f-43f5-9720-0ab13fe76261",
   "metadata": {},
   "outputs": [],
   "source": [
    "import yfinance as yf\n",
    "\n"
   ]
  },
  {
   "cell_type": "code",
   "execution_count": null,
   "id": "aa7f3848-908f-47cb-b335-21ad1e392004",
   "metadata": {},
   "outputs": [],
   "source": [
    "# Retrieve sp500 dataFrame from yfinance\n",
    "\n",
    "sp500 = yf.Ticker(\"^GSPC\").history(period=\"max\")\n"
   ]
  },
  {
   "cell_type": "code",
   "execution_count": null,
   "id": "5d0c8840-1375-454b-a26d-9303b72f1f8c",
   "metadata": {},
   "outputs": [],
   "source": [
    "sp500"
   ]
  },
  {
   "cell_type": "code",
   "execution_count": null,
   "id": "0636987b-3c1f-4c12-90cc-641087b8f565",
   "metadata": {},
   "outputs": [],
   "source": [
    "sp500.index\n"
   ]
  },
  {
   "cell_type": "code",
   "execution_count": null,
   "id": "eb452a4c-f0ce-438c-9050-ba014f66399c",
   "metadata": {},
   "outputs": [],
   "source": [
    "sp500.plot.line(y='Close',use_index=True)"
   ]
  },
  {
   "cell_type": "code",
   "execution_count": null,
   "id": "ae28cec1-32e2-4236-8fd1-9845e780b035",
   "metadata": {},
   "outputs": [],
   "source": [
    "del sp500['Dividends']\n",
    "del sp500['Stock Splits']"
   ]
  },
  {
   "cell_type": "code",
   "execution_count": null,
   "id": "3b150a5f-7b81-4133-aad7-bc9b19343754",
   "metadata": {},
   "outputs": [],
   "source": [
    "sp500['Tomorrow'] = sp500[\"Close\"].shift(-1)"
   ]
  },
  {
   "cell_type": "code",
   "execution_count": null,
   "id": "7e69324a-9221-44f2-8ba8-aa62aedb8d27",
   "metadata": {},
   "outputs": [],
   "source": [
    "sp500"
   ]
  },
  {
   "cell_type": "code",
   "execution_count": null,
   "id": "df9e9325-fc52-4716-976f-5d8f70670d9b",
   "metadata": {},
   "outputs": [],
   "source": [
    "# returns <boolean>True: if Tomorrow's price is greater than the previous Closing price\n",
    "# the return must be converted into an int in order to be used in ml\n",
    "sp500[\"Target\"] = (sp500[\"Tomorrow\"] >sp500[\"Close\"]).astype(int)"
   ]
  },
  {
   "cell_type": "code",
   "execution_count": null,
   "id": "beb17300-888f-45e2-b3ab-1d801aeeb67d",
   "metadata": {},
   "outputs": [],
   "source": [
    "sp500"
   ]
  },
  {
   "cell_type": "code",
   "execution_count": null,
   "id": "9bd310e2-8dad-4052-9442-71ff9b09c28e",
   "metadata": {},
   "outputs": [],
   "source": [
    "sp500 = sp500.loc['1990-01-01':].copy()"
   ]
  },
  {
   "cell_type": "code",
   "execution_count": null,
   "id": "6f139843-b5bc-41ea-87dd-ac7d88b1eab0",
   "metadata": {},
   "outputs": [],
   "source": [
    "sp500"
   ]
  },
  {
   "cell_type": "code",
   "execution_count": null,
   "id": "25b86f82-a174-405c-929b-4dc2db25b48d",
   "metadata": {},
   "outputs": [],
   "source": [
    "pip install scikit-learn"
   ]
  },
  {
   "cell_type": "code",
   "execution_count": null,
   "id": "473871bb-f738-4738-bd73-4e03b26fdc38",
   "metadata": {},
   "outputs": [],
   "source": [
    "from sklearn.ensemble import RandomForestClassifier"
   ]
  },
  {
   "cell_type": "code",
   "execution_count": null,
   "id": "ec4bbabb-80cf-4b8f-9b56-55e6ef56dbcd",
   "metadata": {},
   "outputs": [],
   "source": [
    "model = RandomForestClassifier(n_estimators=100,min_samples_split=100,random_state=1 )\n",
    "#training data is time_series data \n",
    "# note:using cross-validation with time_series data can lead to \n",
    "# inaccurate results,positive training data but negative live results\n",
    "\n",
    "train = sp500.iloc[:-100]\n",
    "\n",
    "test = sp500.iloc[-100:]\n",
    "\n",
    "predictors =[\"Close\",\"Volume\",\"Open\",\"High\",\"Low\"]\n",
    "model.fit(train[predictors],train[\"Target\"])\n",
    "\n"
   ]
  },
  {
   "cell_type": "code",
   "execution_count": null,
   "id": "3806ed34-bfa4-46d1-b499-f2353b33ed6f",
   "metadata": {},
   "outputs": [],
   "source": [
    "from sklearn.metrics import precision_score\n",
    "preds = model.predict(test[predictors])\n"
   ]
  },
  {
   "cell_type": "raw",
   "id": "8748b2e6-6b44-4906-8a3a-016f2eccb13f",
   "metadata": {},
   "source": []
  },
  {
   "cell_type": "code",
   "execution_count": null,
   "id": "8461e787-0dac-4a5e-a263-3467b3f43499",
   "metadata": {},
   "outputs": [],
   "source": [
    "import pandas as pd"
   ]
  },
  {
   "cell_type": "code",
   "execution_count": null,
   "id": "8658153c-9514-4202-b510-10a0930184c4",
   "metadata": {},
   "outputs": [],
   "source": [
    "preds = pd.Series(preds,index=test.index)"
   ]
  },
  {
   "cell_type": "code",
   "execution_count": null,
   "id": "75819be2-984c-46fc-a659-0fee5c428ea5",
   "metadata": {},
   "outputs": [],
   "source": [
    "preds"
   ]
  },
  {
   "cell_type": "code",
   "execution_count": null,
   "id": "086476f6-5571-4bb5-9893-54b43a27c701",
   "metadata": {},
   "outputs": [],
   "source": [
    "precision_score(test[\"Target\"],preds)"
   ]
  },
  {
   "cell_type": "code",
   "execution_count": null,
   "id": "21a9a50f-c396-4d2f-ab7a-5d7aaf4988df",
   "metadata": {},
   "outputs": [],
   "source": [
    "combined = pd.concat([test[\"Target\"],preds],axis=1)"
   ]
  },
  {
   "cell_type": "code",
   "execution_count": null,
   "id": "76ac5247-c7d2-4a47-bae5-49a719197e69",
   "metadata": {},
   "outputs": [],
   "source": [
    "combined.plot()"
   ]
  },
  {
   "cell_type": "code",
   "execution_count": null,
   "id": "ef9a02eb-b38a-4d14-9a02-697107a927a6",
   "metadata": {},
   "outputs": [],
   "source": [
    "def predict(train,test,predictors,model):\n",
    "    model.fit(train[predictors],train[\"Target\"])\n",
    "    preds = model.predict(test[predictors])\n",
    "    preds = pd.Series(preds, index=test.index,name=\"Predictions\")\n",
    "    combined = pd.concat([test[\"Target\"],preds],axis=1)\n",
    "    return combined"
   ]
  },
  {
   "cell_type": "code",
   "execution_count": null,
   "id": "d56cc3b4-3bbf-41dc-b1f6-5f081c4a32ab",
   "metadata": {},
   "outputs": [],
   "source": [
    "def backtest(data,model,predictors,start=2500,step=250):\n",
    "    all_predictions =[]\n",
    "    for i in range(start, data.shape[0],step):\n",
    "        train = data.iloc[0:i].copy()\n",
    "        test = data.iloc[i:(i + step)].copy()\n",
    "        predictions= predict(train,test,predictors,model)\n",
    "        all_predictions.append(predictions)\n",
    "    return pd.concat(all_predictions)\n",
    "        "
   ]
  },
  {
   "cell_type": "code",
   "execution_count": null,
   "id": "1432ed01-9328-48a7-80c9-2ef4da582b95",
   "metadata": {},
   "outputs": [],
   "source": [
    "predictions = backtest(sp500,model,predictors)"
   ]
  },
  {
   "cell_type": "code",
   "execution_count": null,
   "id": "1514e06a-15f8-491c-a2a1-6d2491590d12",
   "metadata": {},
   "outputs": [],
   "source": [
    "predictions[\"Predictions\"].value_counts()"
   ]
  },
  {
   "cell_type": "code",
   "execution_count": null,
   "id": "7bc4015c-2108-4409-85f1-21c3e6811fd1",
   "metadata": {},
   "outputs": [],
   "source": [
    "precision_score(predictions[\"Target\"],predictions[\"Predictions\"])"
   ]
  },
  {
   "cell_type": "code",
   "execution_count": null,
   "id": "f1c4bc31-f540-46b0-963d-ac9109b59ecd",
   "metadata": {},
   "outputs": [],
   "source": [
    "predictions[\"Target\"].value_counts()/predictions.shape[0]"
   ]
  },
  {
   "cell_type": "code",
   "execution_count": null,
   "id": "4763f8cb-3f17-49c9-96dc-261ec14b39a2",
   "metadata": {},
   "outputs": [],
   "source": [
    "# Add additional predictors to improve model\n",
    "# Rolling avaerages are used as inputs holding past <Closing> prices based on days\n",
    "# Goal is to compare todays price to these inputs\n",
    "# horizons=[trading<days>]\n",
    "horizons =[2,5,60,250,1000]\n",
    "new_predictors =[]\n",
    "\n",
    "for horizon in horizons:\n",
    "    rolling_averages = sp500.rolling(horizon).mean()\n",
    "\n",
    "    ratio_column = f\"Close_Ratio_{horizon}\"\n",
    "    sp500[ratio_column] = sp500[\"Close\"]/rolling_averages[\"Close\"]\n",
    "\n",
    "    trend_column = f\"Trend_{horizon}\"\n",
    "    sp500[trend_column] = sp500.shift(1).rolling(horizon).sum()[\"Target\"] \n",
    "    new_predictors += [ratio_column,trend_column]"
   ]
  },
  {
   "cell_type": "code",
   "execution_count": null,
   "id": "774bce82-16b1-40fc-a982-0ba9ccd099c5",
   "metadata": {},
   "outputs": [],
   "source": [
    "sp500"
   ]
  },
  {
   "cell_type": "code",
   "execution_count": null,
   "id": "8342fadd-f595-4b98-be44-ec91ce1b8be8",
   "metadata": {},
   "outputs": [],
   "source": [
    "sp500 = sp500.dropna()"
   ]
  },
  {
   "cell_type": "code",
   "execution_count": 34,
   "id": "a7bc8a88-d5ca-4dcf-8769-a05326edc4ac",
   "metadata": {},
   "outputs": [],
   "source": [
    "model = RandomForestClassifier(n_estimators=200,min_samples_split=50,random_state=1)"
   ]
  },
  {
   "cell_type": "code",
   "execution_count": 35,
   "id": "9ac11cce-5404-4f4a-80da-37476247488d",
   "metadata": {},
   "outputs": [],
   "source": [
    "def predict(train,test,predictors,model):\n",
    "    model.fit(train[predictors],train[\"Target\"])\n",
    "    preds = model.predict_proba(test[predictors])[:,1]\n",
    "    preds[preds>= .6] =1\n",
    "    preds[preds< .6] = 0\n",
    "    preds = pd.Series(preds, index=test.index,name=\"Predictions\")\n",
    "    combined = pd.concat([test[\"Target\"],preds],axis=1)\n",
    "    return combined"
   ]
  },
  {
   "cell_type": "code",
   "execution_count": 36,
   "id": "5c71985b-e5d1-45e2-932e-3ce334210508",
   "metadata": {},
   "outputs": [],
   "source": [
    "predictions = backtest(sp500,model,new_predictors)"
   ]
  },
  {
   "cell_type": "code",
   "execution_count": 37,
   "id": "3842938d-8c4c-478f-a99c-3852e634c374",
   "metadata": {},
   "outputs": [
    {
     "data": {
      "text/plain": [
       "Predictions\n",
       "0.0    4449\n",
       "1.0     851\n",
       "Name: count, dtype: int64"
      ]
     },
     "execution_count": 37,
     "metadata": {},
     "output_type": "execute_result"
    }
   ],
   "source": [
    "predictions[\"Predictions\"].value_counts()"
   ]
  },
  {
   "cell_type": "code",
   "execution_count": 38,
   "id": "39ac664e-08bf-4a30-b66a-cf68fc5fc7e4",
   "metadata": {},
   "outputs": [
    {
     "data": {
      "text/plain": [
       "np.float64(0.5757931844888367)"
      ]
     },
     "execution_count": 38,
     "metadata": {},
     "output_type": "execute_result"
    }
   ],
   "source": [
    "precision_score(predictions[\"Target\"],predictions[\"Predictions\"])"
   ]
  },
  {
   "cell_type": "code",
   "execution_count": 39,
   "id": "5e6470a3-0596-48a3-af6c-e7c1bda8e16d",
   "metadata": {},
   "outputs": [
    {
     "data": {
      "text/plain": [
       "'\\n'"
      ]
     },
     "execution_count": 39,
     "metadata": {},
     "output_type": "execute_result"
    }
   ],
   "source": [
    "# To extend model\n",
    "\n",
    "\"\"\"\n",
    "1) Check correlation between sp500 and other stocks from around the world, with the goal of\n",
    "using the movement from <x> stock, would this be a valuable predictor for the sp500\n",
    "\n",
    "\"\"\""
   ]
  },
  {
   "cell_type": "code",
   "execution_count": null,
   "id": "567c31c8-9a4e-4792-938e-089bdb1d2601",
   "metadata": {},
   "outputs": [],
   "source": []
  }
 ],
 "metadata": {
  "kernelspec": {
   "display_name": "Python 3 (ipykernel)",
   "language": "python",
   "name": "python3"
  },
  "language_info": {
   "codemirror_mode": {
    "name": "ipython",
    "version": 3
   },
   "file_extension": ".py",
   "mimetype": "text/x-python",
   "name": "python",
   "nbconvert_exporter": "python",
   "pygments_lexer": "ipython3",
   "version": "3.11.3"
  }
 },
 "nbformat": 4,
 "nbformat_minor": 5
}
